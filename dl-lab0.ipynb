{
  "cells": [
    {
      "cell_type": "markdown",
      "metadata": {
        "id": "vZLhR15m7fKE"
      },
      "source": [
        "Author: Marcus Zamzow"
      ]
    },
    {
      "cell_type": "code",
      "execution_count": null,
      "metadata": {
        "id": "8pt-lwzR7fKH"
      },
      "outputs": [],
      "source": [
        "# On colab: Install fastbook, fastai, and dependencies\n",
        "!pip install -Uqq fastbook"
      ]
    },
    {
      "cell_type": "code",
      "execution_count": null,
      "metadata": {
        "id": "patc-mvC7fKI"
      },
      "outputs": [],
      "source": [
        "# On colab: paste code to display versions here and run cell\n"
      ]
    },
    {
      "cell_type": "code",
      "execution_count": null,
      "metadata": {
        "id": "q8aM96I27fKI"
      },
      "outputs": [],
      "source": [
        "# On local machine: paste code to display versions here and run cell\n"
      ]
    },
    {
      "cell_type": "markdown",
      "metadata": {
        "id": "MN8eGhZq7fKI"
      },
      "source": [
        "## Reflection\n",
        "Include:\n",
        "- Something you are excited about learning in this course.\n",
        "- Potential difficulties you anticipate."
      ]
    },
    {
      "cell_type": "markdown",
      "metadata": {
        "id": "Grqc464T7fKJ"
      },
      "source": [
        "*YOUR ANSWER HERE*"
      ]
    }
  ],
  "metadata": {
    "kernelspec": {
      "display_name": "Python 3 (ipykernel)",
      "language": "python",
      "name": "python3"
    },
    "language_info": {
      "codemirror_mode": {
        "name": "ipython",
        "version": 3
      },
      "file_extension": ".py",
      "mimetype": "text/x-python",
      "name": "python",
      "nbconvert_exporter": "python",
      "pygments_lexer": "ipython3",
      "version": "3.9.7"
    },
    "colab": {
      "provenance": []
    }
  },
  "nbformat": 4,
  "nbformat_minor": 0
}